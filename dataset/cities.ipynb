{
 "cells": [
  {
   "cell_type": "code",
   "execution_count": 2,
   "metadata": {},
   "outputs": [
    {
     "data": {
      "text/plain": [
       "<pandas.core.groupby.generic.DataFrameGroupBy object at 0x000001A2318743D0>"
      ]
     },
     "execution_count": 2,
     "metadata": {},
     "output_type": "execute_result"
    }
   ],
   "source": [
    "import pandas as pd \n",
    "df=pd.read_csv('wilaya-cities.csv')\n",
    "\"\"\"#df.set_index('id')\n",
    "\n",
    "new=df.groupby(['wilaya_code','commune_name_ascii'])\n",
    "new.first()\n",
    "new.to_json('communes.json',orient='records') \"\"\"\n",
    "\n",
    "\n",
    "df = df.astype({'code':'string'})\n",
    "grouped_df = df.groupby(\"code\")\n",
    "\n",
    "\n",
    "communes = grouped_df.apply(lambda x: x[[\"commune\"]].to_dict(\"records\")).to_dict()\n",
    "\n",
    "\n",
    "\n",
    "communes"
   ]
  },
  {
   "cell_type": "code",
   "execution_count": 1,
   "metadata": {},
   "outputs": [
    {
     "data": {
      "text/plain": [
       "<pandas.core.groupby.generic.DataFrameGroupBy object at 0x000001A554924370>"
      ]
     },
     "execution_count": 1,
     "metadata": {},
     "output_type": "execute_result"
    }
   ],
   "source": [
    "import pandas as pd \n",
    "df=pd.read_csv('wilaya-cities.csv')\n",
    "\"\"\"#df.set_index('id')\n",
    "\n",
    "new=df.groupby(['wilaya_code','commune_name_ascii'])\n",
    "new.first()\n",
    "new.to_json('communes.json',orient='records') \"\"\"\n",
    "\n",
    "\n",
    "df = df.astype({'code':'string'}) \n"
   ]
  },
  {
   "cell_type": "code",
   "execution_count": null,
   "metadata": {},
   "outputs": [],
   "source": []
  },
  {
   "cell_type": "code",
   "execution_count": null,
   "metadata": {},
   "outputs": [],
   "source": [
    "hello"
   ]
  },
  {
   "cell_type": "code",
   "execution_count": null,
   "metadata": {},
   "outputs": [],
   "source": []
  }
 ],
 "metadata": {
  "kernelspec": {
   "display_name": "base",
   "language": "python",
   "name": "python3"
  },
  "language_info": {
   "codemirror_mode": {
    "name": "ipython",
    "version": 3
   },
   "file_extension": ".py",
   "mimetype": "text/x-python",
   "name": "python",
   "nbconvert_exporter": "python",
   "pygments_lexer": "ipython3",
   "version": "3.8.8"
  },
  "orig_nbformat": 4,
  "vscode": {
   "interpreter": {
    "hash": "865d8b2eb28e274047ba64063dfb6a2aabf0dfec4905d304d7a76618dae6fdd4"
   }
  }
 },
 "nbformat": 4,
 "nbformat_minor": 2
}
